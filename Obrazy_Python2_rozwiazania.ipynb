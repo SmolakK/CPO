{
 "cells": [
  {
   "cell_type": "markdown",
   "metadata": {},
   "source": [
    "## Porządkujemy kod i piszemy zestaw narzędzi do przetwarzania obrazów"
   ]
  },
  {
   "cell_type": "markdown",
   "metadata": {},
   "source": [
    "Z uwagi że fragmenty kodu będziem wykorzystywać wielokrotnie, uporządkujemy je sobie w funkcje, do których będziemy się odwoływać wielokrotnie. Od dziś (no prawie do końca semestru) będziemy dopisywać nowe funkcje, rozszerzać je i testować, aż finalnie otrzymamy paczkę (bibliotekę) narzędzi do przetwarzania obrazów"
   ]
  },
  {
   "cell_type": "markdown",
   "metadata": {},
   "source": [
    "Zacznijmy od czegoś prostego."
   ]
  },
  {
   "cell_type": "code",
   "execution_count": 92,
   "metadata": {},
   "outputs": [],
   "source": [
    "from PIL import Image\n",
    "import numpy as np\n",
    "import matplotlib.pyplot as plt\n",
    "from collections import OrderedDict"
   ]
  },
  {
   "cell_type": "code",
   "execution_count": 101,
   "metadata": {},
   "outputs": [],
   "source": [
    "def wczytaj_obraz(sciezka):\n",
    "    return Image.open(sciezka)\n",
    "\n",
    "def obraz_do_macierz(obraz):\n",
    "    return np.array(obraz)\n",
    "\n",
    "def macierz_do_obraz(macierz):\n",
    "    return Image.fromarray(macierz)\n",
    "\n",
    "def rozbij_na_kanaly(obraz):\n",
    "    macierz = obraz_do_macierz(obraz)\n",
    "    k1 = macierz[:,:,0]\n",
    "    k2 = macierz[:,:,1]\n",
    "    k3 = macierz[:,:,2]\n",
    "    return k1, k2, k3\n",
    "\n",
    "def zloz(kanal1,kanal2,kanal3):\n",
    "    macierz = np.stack((kanal1, kanal2, kanal3),axis=2)\n",
    "    return macierz_do_obraz(macierz)\n",
    "\n",
    "def obrot(obraz):\n",
    "    macierz = obraz_do_macierz(obraz)\n",
    "    obrocona = np.rot90(macierz)\n",
    "    return macierz_do_obraz(obrocona)\n",
    "\n",
    "def odbicie(obraz):\n",
    "    macierz = obraz_do_macierz(obraz)\n",
    "    obrocona = np.fliplr(macierz)\n",
    "    return macierz_do_obraz(obrocona)\n",
    "\n",
    "def zlicz(macierz):\n",
    "    zliczenie = OrderedDict()\n",
    "    for wiersz in macierz.tolist():\n",
    "        for wartosc in wiersz:\n",
    "            if wartosc in zliczenie.keys():\n",
    "                zliczenie[wartosc] += 1\n",
    "            else:\n",
    "                zliczenie[wartosc] = 1\n",
    "    return zliczenie\n",
    "\n",
    "def histogram(obraz):\n",
    "    k1, k2, k3 = rozbij_na_kanaly(obraz)\n",
    "    histR = zlicz(k1)\n",
    "    histG = zlicz(k2)\n",
    "    histB = zlicz(k3)\n",
    "    plt.figure(figsize=(15,4))\n",
    "    plt.bar(histR.keys(), histR.values(), color = 'red', alpha = .8)\n",
    "    plt.bar(histG.keys(), histG.values(), color = 'green', alpha = .8)\n",
    "    plt.bar(histB.keys(), histB.values(), color = 'blue', alpha = .8)\n"
   ]
  },
  {
   "cell_type": "code",
   "execution_count": 102,
   "metadata": {},
   "outputs": [
    {
     "data": {
      "image/png": "[encoded data removed]",
      "text/plain": [
       "<Figure size 1080x288 with 1 Axes>"
      ]
     },
     "metadata": {
      "needs_background": "light"
     },
     "output_type": "display_data"
    }
   ],
   "source": [
    "o = wczytaj_obraz(\"Lena.png\")\n",
    "histogram(o)"
   ]
  },
  {
   "cell_type": "code",
   "execution_count": null,
   "metadata": {},
   "outputs": [],
   "source": []
  }
 ],
 "metadata": {
  "kernelspec": {
   "display_name": "Python 3",
   "language": "python",
   "name": "python3"
  },
  "language_info": {
   "codemirror_mode": {
    "name": "ipython",
    "version": 3
   },
   "file_extension": ".py",
   "mimetype": "text/x-python",
   "name": "python",
   "nbconvert_exporter": "python",
   "pygments_lexer": "ipython3",
   "version": "3.7.1"
  }
 },
 "nbformat": 4,
 "nbformat_minor": 2
}
