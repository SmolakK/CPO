{
 "cells": [
  {
   "cell_type": "markdown",
   "metadata": {},
   "source": [
    "<h2> Kontynuujemy pisanie naszej biblioteki </h2>\n",
    "\n",
    "Dzisijesze funkcje to w dalszym ciągu przekształcenia bezkontekstowe. Tym razem będzie to:\n",
    "\n",
    "    Wyrównanie histogramu\n",
    "    Rozciągnięcie histogramu\n",
    "    Progowanie\n",
    "    Odcienie szarości\n",
    "    Sepia"
   ]
  },
  {
   "cell_type": "code",
   "execution_count": 1,
   "metadata": {},
   "outputs": [],
   "source": [
    "#Importy\n",
    "from PIL import Image\n",
    "import numpy as np\n",
    "import matplotlib.pyplot as plt\n",
    "from collections import OrderedDict"
   ]
  },
  {
   "cell_type": "code",
   "execution_count": 32,
   "metadata": {},
   "outputs": [],
   "source": [
    "#Kod biblioteki\n",
    "def wczytaj_obraz(sciezka):\n",
    "    return Image.open(sciezka)\n",
    "\n",
    "def obraz_do_macierz(obraz):\n",
    "    return np.array(obraz)\n",
    "\n",
    "def macierz_do_obraz(macierz):\n",
    "    return Image.fromarray(macierz.astype(np.uint8))\n",
    "\n",
    "def rozbij_na_kanaly(obraz):\n",
    "    macierz = obraz_do_macierz(obraz)\n",
    "    k1 = macierz[:,:,0]\n",
    "    k2 = macierz[:,:,1]\n",
    "    k3 = macierz[:,:,2]\n",
    "    return k1, k2, k3\n",
    "\n",
    "def zloz(kanal1,kanal2,kanal3):\n",
    "    macierz = np.stack((kanal1, kanal2, kanal3),axis=2)\n",
    "    return macierz_do_obraz(macierz)\n",
    "\n",
    "def obrot(obraz):\n",
    "    macierz = obraz_do_macierz(obraz)\n",
    "    obrocona = np.rot90(macierz)\n",
    "    return macierz_do_obraz(obrocona)\n",
    "\n",
    "def odbicie(obraz):\n",
    "    macierz = obraz_do_macierz(obraz)\n",
    "    obrocona = np.fliplr(macierz)\n",
    "    return macierz_do_obraz(obrocona)\n",
    "\n",
    "def zlicz(macierz):\n",
    "    zliczenie = OrderedDict()\n",
    "    for wiersz in macierz.tolist():\n",
    "        for wartosc in wiersz:\n",
    "            if wartosc in zliczenie.keys():\n",
    "                zliczenie[wartosc] += 1\n",
    "            else:\n",
    "                zliczenie[wartosc] = 1\n",
    "    return zliczenie\n",
    "\n",
    "def histogram(obraz):\n",
    "    k1, k2, k3 = rozbij_na_kanaly(obraz)\n",
    "    histR = zlicz(k1)\n",
    "    histG = zlicz(k2)\n",
    "    histB = zlicz(k3)\n",
    "    plt.figure(figsize=(15,15))\n",
    "    plt.subplot(4,1,1)\n",
    "    plt.bar(histR.keys(), histR.values(), color = 'red', alpha = .8, width = 1)\n",
    "    \n",
    "    plt.subplot(4,1,2)\n",
    "    plt.bar(histG.keys(), histG.values(), color = 'green', alpha = .8, width = 1)\n",
    "    \n",
    "    plt.subplot(4,1,3)\n",
    "    plt.bar(histB.keys(), histB.values(), color = 'blue', alpha = .8, width = 1)\n",
    "\n",
    "    plt.subplot(4,1,4)\n",
    "    plt.bar(histR.keys(), histR.values(), color = 'red', alpha = .8, width = 1)\n",
    "    plt.bar(histG.keys(), histG.values(), color = 'green', alpha = .8, width = 1)\n",
    "    plt.bar(histB.keys(), histB.values(), color = 'blue', alpha = .8, width = 1)\n",
    "\n",
    "def negacja(obraz):\n",
    "    macierz = obraz_do_macierz(obraz)\n",
    "    macierz = 255 - macierz\n",
    "    nowy_obraz = macierz_do_obraz(macierz)\n",
    "    return nowy_obraz\n",
    "\n",
    "def jasnosc(obraz, wartosc):\n",
    "    macierz = obraz_do_macierz(obraz)\n",
    "    LUT = np.arange(256)\n",
    "    LUT += wartosc\n",
    "    LUT = np.clip(LUT,0,255)\n",
    "    for kanal in range(macierz.shape[2]):\n",
    "        for x in range(macierz.shape[0]):\n",
    "            for y in range(macierz.shape[1]):\n",
    "                nowa_wartosc =  LUT[macierz[x,y,kanal]]\n",
    "                if nowa_wartosc > 255:\n",
    "                    nowa_wartosc = 255\n",
    "                elif nowa_wartosc < 0:\n",
    "                    nowa_wartosc = 0\n",
    "                macierz[x,y,kanal] = nowa_wartosc\n",
    "    nowy_obraz = macierz_do_obraz(macierz)\n",
    "    return nowy_obraz\n",
    "\n",
    "def kontrast(obraz, prog):\n",
    "    macierz = obraz_do_macierz(obraz)\n",
    "    LUT = np.arange(256)\n",
    "    LUT = ((LUT - prog)*255)/(255-(2*prog))\n",
    "    LUT = np.clip(LUT,0,255)\n",
    "    for kanal in range(macierz.shape[2]):\n",
    "        for x in range(macierz.shape[0]):\n",
    "            for y in range(macierz.shape[1]):\n",
    "                nowa_wartosc = LUT[macierz[x,y,kanal]]\n",
    "                macierz[x,y,kanal] = nowa_wartosc\n",
    "    nowy_obraz = macierz_do_obraz(macierz)\n",
    "    return nowy_obraz"
   ]
  },
  {
   "cell_type": "markdown",
   "metadata": {},
   "source": [
    "<b>Wyrównanie histogramu</b> - polega na...wyrównaniu histogramu! Sprawia to, że w przybliżeniu każda wartość piksela każdego kanału pojawia się na obrazie w przybliżeniu tyle samo razy. Wynikiem jest tego obraz w bardziej naturalnych barwach o lepszej percepcji szczegółowości. Metoda jest dwuetapowa, należy najpierw policzyć histogram skumulowany, a następnie przeskalować wartości pikseli."
   ]
  },
  {
   "cell_type": "code",
   "execution_count": null,
   "metadata": {},
   "outputs": [],
   "source": [
    "def histogram_skumulowany(obraz):\n",
    "    #kod\n",
    "    return histo\n",
    "\n",
    "def wyrownaj_histogram(obraz):\n",
    "    hist_skum = histogram_skumulowany(obraz)\n",
    "    #kod\n",
    "    return nowy_obraz\n",
    "\n",
    "obraz = wczytaj_obraz(\"Lena.png\")\n",
    "wyrownaj_histogram(obraz)"
   ]
  },
  {
   "cell_type": "markdown",
   "metadata": {},
   "source": [
    "<b>Automatyczne zwiekszenie kontrastu</b> polega na autoamtycznym wykreciu najlepszych progów, które pozwolą na maksymalne zwiększenie kontrastu obrazu bez utraty informacji. Proce odbywa się automatycznie dla każdego progu z osobna.\n",
    "Procedura:\n",
    "\n",
    "    1. Oblicz średnią wartości kanału\n",
    "    2. Obliczeń odchylenie standardowe kanału\n",
    "    3. Oblicz próg kontrastu jako:\n",
    "        średnia +/- 2*odchylenie standardowe\n",
    "    4. Dokonaj konstrastowania obrazu z obliczonymi progami\n",
    "    \n",
    "Najpierw należy zaimplementować poszerzoną wersję funkcji kontrastu"
   ]
  },
  {
   "cell_type": "code",
   "execution_count": 34,
   "metadata": {},
   "outputs": [],
   "source": [
    "def auto_kontrast(obraz):\n",
    "    #kod\n",
    "    return nowy_obraz"
   ]
  },
  {
   "cell_type": "markdown",
   "metadata": {},
   "source": [
    "<b>Rozciąganie histogramu</b> polega na przeskalowaniu wartości pikslei na obrazie tak by wypełniały możliwie cały zakres histogramu bez ucinania jego brzegów. W rezultacie zwiększamy kontrast maksymalnie do granic obrazu bez utraty informacji.\n",
    "\n",
    "Wartość nowego piksela to:\n",
    "\n",
    "    g' = 255*(g-min(g))/(max(g)-min(g)\n",
    "    \n",
    "Gdzie:\n",
    "\n",
    "    max(g) - maksymalna wartość piksela w kanale\n",
    "    min(g) - minimalna wartość piskela w kanale"
   ]
  },
  {
   "cell_type": "code",
   "execution_count": 35,
   "metadata": {},
   "outputs": [],
   "source": [
    "def rozciagnij_histogram(obraz):\n",
    "    #kod\n",
    "    return nowy_obraz"
   ]
  },
  {
   "cell_type": "markdown",
   "metadata": {},
   "source": [
    "<b>Odcienie szarości</b> - operacja ta polega na konwersji obrazu do skali szarości. To prosta operacja. Polega na zsumowaniu kanałów i obliczenia średniej wartości piksela ze wszystkich trzech wartości."
   ]
  },
  {
   "cell_type": "code",
   "execution_count": 36,
   "metadata": {},
   "outputs": [],
   "source": [
    "def odcienie_szarosc(obraz):\n",
    "    #kod\n",
    "    return nowy_obraz"
   ]
  },
  {
   "cell_type": "markdown",
   "metadata": {},
   "source": [
    "<b> Sepia </b> to inna forma kowersji obrazu do charakterystycznego brązowego zabarwienia. Należy przekształcić kanały według formuły:\n",
    "\n",
    "    R = R + 2W\n",
    "    G = G + W\n",
    "    B = B\n",
    "    \n",
    "gdzie W to pewna wartość w zakresie <20;40>"
   ]
  },
  {
   "cell_type": "code",
   "execution_count": 37,
   "metadata": {},
   "outputs": [],
   "source": [
    "def sepia(obraz, W):\n",
    "    #kod\n",
    "    return nowy_obraz"
   ]
  },
  {
   "cell_type": "markdown",
   "metadata": {},
   "source": [
    "<b> Progowanie </b> - polega na przekształceniu obrazu kolorowego do binarnego. Ta operacja polega na przekształceniu wszystkich pikseli o wartości powyżej zadanego progu w piksel czarny, a poniżej - w biały."
   ]
  },
  {
   "cell_type": "code",
   "execution_count": null,
   "metadata": {},
   "outputs": [],
   "source": [
    "def progowanie(obraz, prog):\n",
    "    #kod\n",
    "    return nowy_obraz"
   ]
  }
 ],
 "metadata": {
  "kernelspec": {
   "display_name": "Python 3",
   "language": "python",
   "name": "python3"
  },
  "language_info": {
   "codemirror_mode": {
    "name": "ipython",
    "version": 3
   },
   "file_extension": ".py",
   "mimetype": "text/x-python",
   "name": "python",
   "nbconvert_exporter": "python",
   "pygments_lexer": "ipython3",
   "version": "3.7.1"
  }
 },
 "nbformat": 4,
 "nbformat_minor": 2
}
