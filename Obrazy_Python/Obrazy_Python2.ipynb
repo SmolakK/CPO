{
 "cells": [
  {
   "cell_type": "markdown",
   "metadata": {},
   "source": [
    "## Porządkujemy kod i piszemy zestaw narzędzi do przetwarzania obrazów"
   ]
  },
  {
   "cell_type": "markdown",
   "metadata": {},
   "source": [
    "Z uwagi że fragmenty kodu będziem wykorzystywać wielokrotnie, uporządkujemy je sobie w funkcje, do których będziemy się odwoływać wielokrotnie. Od dziś (no prawie do końca semestru) będziemy dopisywać nowe funkcje, rozszerzać je i testować, aż finalnie otrzymamy paczkę (bibliotekę) narzędzi do przetwarzania obrazów"
   ]
  },
  {
   "cell_type": "markdown",
   "metadata": {},
   "source": [
    "Zacznijmy od czegoś prostego."
   ]
  },
  {
   "cell_type": "code",
   "execution_count": 1,
   "metadata": {},
   "outputs": [],
   "source": [
    "from PIL import Image\n",
    "import numpy as np"
   ]
  },
  {
   "cell_type": "code",
   "execution_count": null,
   "metadata": {},
   "outputs": [],
   "source": [
    "def wczytaj_obraz(sciezka):\n",
    "    pass\n",
    "\n",
    "def obraz_do_macierz(obraz):\n",
    "    pass\n",
    "\n",
    "def macierz_do_obraz(macierz):\n",
    "    pass\n",
    "\n",
    "def rozbij_na_kanaly(obraz):\n",
    "    pass\n",
    "\n",
    "def zloz(kanal1,kanal2,kanal3):\n",
    "    pass\n",
    "\n",
    "def obrot(obraz):\n",
    "    pass\n",
    "\n",
    "def odbicie(obraz):\n",
    "    pass\n",
    "\n",
    "def histogram(obraz):\n",
    "    pass"
   ]
  }
 ],
 "metadata": {
  "kernelspec": {
   "display_name": "Python 3",
   "language": "python",
   "name": "python3"
  },
  "language_info": {
   "codemirror_mode": {
    "name": "ipython",
    "version": 3
   },
   "file_extension": ".py",
   "mimetype": "text/x-python",
   "name": "python",
   "nbconvert_exporter": "python",
   "pygments_lexer": "ipython3",
   "version": "3.7.1"
  }
 },
 "nbformat": 4,
 "nbformat_minor": 2
}
