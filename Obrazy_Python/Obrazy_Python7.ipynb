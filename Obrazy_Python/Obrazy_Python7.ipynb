{
 "cells": [
  {
   "cell_type": "markdown",
   "metadata": {},
   "source": [
    "<h1> Transformacje w dziedzinie częstotliwości </h1>\n",
    "\n"
   ]
  },
  {
   "cell_type": "code",
   "execution_count": 1,
   "metadata": {},
   "outputs": [],
   "source": [
    "#Importy\n",
    "from PIL import Image\n",
    "import numpy as np\n",
    "import matplotlib.pyplot as plt\n",
    "from collections import OrderedDict"
   ]
  },
  {
   "cell_type": "code",
   "execution_count": 2,
   "metadata": {},
   "outputs": [],
   "source": [
    "#Kod biblioteki\n",
    "def wczytaj_obraz(sciezka):\n",
    "    return Image.open(sciezka)\n",
    "\n",
    "def obraz_do_macierz(obraz):\n",
    "    return np.array(obraz)\n",
    "\n",
    "def macierz_do_obraz(macierz):\n",
    "    return Image.fromarray(macierz.astype(np.uint8))\n",
    "\n",
    "def rozbij_na_kanaly(obraz):\n",
    "    macierz = obraz_do_macierz(obraz)\n",
    "    k1 = macierz[:,:,0]\n",
    "    k2 = macierz[:,:,1]\n",
    "    k3 = macierz[:,:,2]\n",
    "    return k1, k2, k3\n",
    "\n",
    "def zloz(kanal1,kanal2,kanal3):\n",
    "    macierz = np.stack((kanal1, kanal2, kanal3),axis=2)\n",
    "    return macierz_do_obraz(macierz)\n",
    "\n",
    "def obrot(obraz):\n",
    "    macierz = obraz_do_macierz(obraz)\n",
    "    obrocona = np.rot90(macierz)\n",
    "    return macierz_do_obraz(obrocona)\n",
    "\n",
    "def odbicie(obraz):\n",
    "    macierz = obraz_do_macierz(obraz)\n",
    "    obrocona = np.fliplr(macierz)\n",
    "    return macierz_do_obraz(obrocona)\n",
    "\n",
    "def zlicz(macierz):\n",
    "    zliczenie = OrderedDict()\n",
    "    for wiersz in macierz.tolist():\n",
    "        for wartosc in wiersz:\n",
    "            if wartosc in zliczenie.keys():\n",
    "                zliczenie[wartosc] += 1\n",
    "            else:\n",
    "                zliczenie[wartosc] = 1\n",
    "    return zliczenie\n",
    "\n",
    "def histogram(obraz):\n",
    "    k1, k2, k3 = rozbij_na_kanaly(obraz)\n",
    "    histR = zlicz(k1)\n",
    "    histG = zlicz(k2)\n",
    "    histB = zlicz(k3)\n",
    "    plt.figure(figsize=(15,15))\n",
    "    plt.subplot(4,1,1)\n",
    "    plt.bar(histR.keys(), histR.values(), color = 'red', alpha = .8, width = 1)\n",
    "    \n",
    "    plt.subplot(4,1,2)\n",
    "    plt.bar(histG.keys(), histG.values(), color = 'green', alpha = .8, width = 1)\n",
    "    \n",
    "    plt.subplot(4,1,3)\n",
    "    plt.bar(histB.keys(), histB.values(), color = 'blue', alpha = .8, width = 1)\n",
    "\n",
    "    plt.subplot(4,1,4)\n",
    "    plt.bar(histR.keys(), histR.values(), color = 'red', alpha = .8, width = 1)\n",
    "    plt.bar(histG.keys(), histG.values(), color = 'green', alpha = .8, width = 1)\n",
    "    plt.bar(histB.keys(), histB.values(), color = 'blue', alpha = .8, width = 1)\n",
    "\n",
    "def negacja(obraz):\n",
    "    macierz = obraz_do_macierz(obraz)\n",
    "    macierz = 255 - macierz\n",
    "    nowy_obraz = macierz_do_obraz(macierz)\n",
    "    return nowy_obraz\n",
    "\n",
    "def jasnosc(obraz, wartosc):\n",
    "    macierz = obraz_do_macierz(obraz)\n",
    "    LUT = np.arange(256)\n",
    "    LUT += wartosc\n",
    "    LUT = np.clip(LUT,0,255)\n",
    "    for kanal in range(macierz.shape[2]):\n",
    "        for x in range(macierz.shape[0]):\n",
    "            for y in range(macierz.shape[1]):\n",
    "                nowa_wartosc =  LUT[macierz[x,y,kanal]]\n",
    "                if nowa_wartosc > 255:\n",
    "                    nowa_wartosc = 255\n",
    "                elif nowa_wartosc < 0:\n",
    "                    nowa_wartosc = 0\n",
    "                macierz[x,y,kanal] = nowa_wartosc\n",
    "    nowy_obraz = macierz_do_obraz(macierz)\n",
    "    return nowy_obraz\n",
    "\n",
    "def kontrast(obraz, prog):\n",
    "    macierz = obraz_do_macierz(obraz)\n",
    "    LUT = np.arange(256)\n",
    "    LUT = ((LUT - prog)*255)/(255-(2*prog))\n",
    "    LUT = np.clip(LUT,0,255)\n",
    "    for kanal in range(macierz.shape[2]):\n",
    "        for x in range(macierz.shape[0]):\n",
    "            for y in range(macierz.shape[1]):\n",
    "                nowa_wartosc = LUT[macierz[x,y,kanal]]\n",
    "                macierz[x,y,kanal] = nowa_wartosc\n",
    "    nowy_obraz = macierz_do_obraz(macierz)\n",
    "    return nowy_obraz"
   ]
  },
  {
   "cell_type": "markdown",
   "metadata": {},
   "source": [
    "<h2> Transformacja Fouriera </h2>\n",
    "\n",
    "        Wprzód\n",
    "        Wstecz"
   ]
  },
  {
   "cell_type": "code",
   "execution_count": null,
   "metadata": {},
   "outputs": [],
   "source": [
    "import scipy.fftpack as fp\n",
    "\n",
    "def skaluj(dane):\n",
    "    #do zarkesu\n",
    "\n",
    "def obraz_do_fft(obraz):\n",
    "    macierz = obraz_do_macierz(obraz)\n",
    "    #\n",
    "    return transformata\n",
    "\n",
    "def fft_do_obraz(obraz):\n",
    "    macierz = obraz_do_macierz(obraz)\n",
    "    #\n",
    "    return transformata\n",
    "\n",
    "obraz_do_fft(wczytaj_obraz(\"Lena.png\"))"
   ]
  },
  {
   "cell_type": "markdown",
   "metadata": {},
   "source": [
    "<h3> Filtracja w dziedzinie częstotliwości </h3>"
   ]
  },
  {
   "cell_type": "code",
   "execution_count": null,
   "metadata": {},
   "outputs": [],
   "source": []
  }
 ],
 "metadata": {
  "kernelspec": {
   "display_name": "Python 3",
   "language": "python",
   "name": "python3"
  },
  "language_info": {
   "codemirror_mode": {
    "name": "ipython",
    "version": 3
   },
   "file_extension": ".py",
   "mimetype": "text/x-python",
   "name": "python",
   "nbconvert_exporter": "python",
   "pygments_lexer": "ipython3",
   "version": "3.7.1"
  }
 },
 "nbformat": 4,
 "nbformat_minor": 2
}
